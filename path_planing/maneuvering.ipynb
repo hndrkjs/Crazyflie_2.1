{
 "cells": [
  {
   "attachments": {},
   "cell_type": "markdown",
   "metadata": {},
   "source": [
    "The code in this notebook is adapted from Lab4 from the INtroduction to Robotics course which can be found here https://irom-lab.princeton.edu/intro-to-robotics/"
   ]
  },
  {
   "cell_type": "code",
   "execution_count": null,
   "metadata": {},
   "outputs": [],
   "source": [
    "from path_planing.RRT import RRT\n",
    "import matplotlib.pyplot as plt\n",
    "\n",
    "%matplotlib notebook"
   ]
  },
  {
   "cell_type": "code",
   "execution_count": null,
   "metadata": {},
   "outputs": [],
   "source": [
    "width = 3\n",
    "height = 4\n",
    "\n",
    "obstacles = [(np.array([1, 1]), 0.25), (np.array([2, 2]), 0.25), (np.array([1, 3]), 0.3)]\n",
    "goal = (np.array([2.5, 3.5]), 0.25)\n",
    "\n",
    "origin = (0.1, 0.1)\n",
    "\n",
    "vertices, parents = rrt(origin, width, height, obstacles)\n",
    "\n",
    "index = nearest_vertex(goal[0], vertices)\n",
    "\n",
    "if np.linalg.norm(vertices[index, :] - goal[0]) < 0.25:\n",
    "    print('Path found!')\n",
    "    path_verts = backtrack(index, parents)\n",
    "else:\n",
    "    print('No path found!')\n",
    "    path_verts = []"
   ]
  },
  {
   "cell_type": "code",
   "execution_count": null,
   "metadata": {},
   "outputs": [],
   "source": [
    "fig, ax = plt.subplots()\n",
    "\n",
    "ax.set_xlim([0, width])\n",
    "ax.set_ylim([0, height])\n",
    "ax.set_aspect('equal')\n",
    "\n",
    "for i in range(len(parents)):\n",
    "    if parents[i] < 0:\n",
    "        continue\n",
    "    plt.plot([vertices[i, 0], vertices[parents[i], 0]], \n",
    "             [vertices[i, 1], vertices[parents[i], 1]], c='k')\n",
    "\n",
    "for i in path_verts:\n",
    "    if parents[i] < 0:\n",
    "        continue\n",
    "    plt.plot([vertices[i, 0], vertices[parents[i], 0]], \n",
    "             [vertices[i, 1], vertices[parents[i], 1]], c='r')    \n",
    "\n",
    "for o in obstacles:\n",
    "    ax.add_artist(plt.Circle(tuple(o[0]), o[1]))\n",
    "    \n",
    "ax.add_artist(plt.Circle(tuple(goal[0]), goal[1], ec=(0.004, 0.596, 0.105), fc=(1, 1, 1)))\n",
    "\n",
    "plt.scatter([2.5], [3.5], zorder=3, c=np.array([[0.004, 0.596, 0.105]]), s=3)\n",
    "plt.scatter(vertices[path_verts, 0], vertices[path_verts, 1], c=np.array([[1, 0, 0]]), s=3, zorder=2)\n",
    "plt.scatter(vertices[1:, 0], vertices[1:, 1], c=np.array([[0, 0, 0]]), s=3)"
   ]
  }
 ],
 "metadata": {
  "language_info": {
   "name": "python"
  },
  "orig_nbformat": 4
 },
 "nbformat": 4,
 "nbformat_minor": 2
}
